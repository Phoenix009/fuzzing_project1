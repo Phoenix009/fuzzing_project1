{
 "cells": [
  {
   "cell_type": "code",
   "execution_count": 1,
   "id": "7d5c3bb9",
   "metadata": {},
   "outputs": [],
   "source": [
    "from fuzzingbook.Grammars import syntax_diagram"
   ]
  },
  {
   "cell_type": "code",
   "execution_count": 6,
   "id": "e42f68f6",
   "metadata": {},
   "outputs": [],
   "source": [
    "conflict_clause = {\n",
    "    \"<conflict-clause>\": [\n",
    "        \"\",\n",
    "        \"ON CONFLICT ROLLBACK\",\n",
    "        \"ON CONFLICT ABORT\",\n",
    "        \"ON CONFLICT FAIL\",\n",
    "        \"ON CONFLICT IGNORE\",\n",
    "        \"ON CONFLICT REPLACE\",\n",
    "    ],\n",
    "}"
   ]
  },
  {
   "cell_type": "code",
   "execution_count": 7,
   "id": "b6f6f9a0",
   "metadata": {},
   "outputs": [
    {
     "name": "stdout",
     "output_type": "stream",
     "text": [
      "conflict-clause\n"
     ]
    },
    {
     "data": {
      "image/svg+xml": [
       "<svg xmlns=\"http://www.w3.org/2000/svg\" class=\"railroad-diagram\" height=\"80\" viewBox=\"0 0 1325.0 80\" width=\"1325.0\">\n",
       "<g transform=\"translate(.5 .5)\">\n",
       "<style>/* <![CDATA[ */\n",
       "    svg.railroad-diagram {\n",
       "    }\n",
       "    svg.railroad-diagram path {\n",
       "        stroke-width:3;\n",
       "        stroke:black;\n",
       "        fill:white;\n",
       "    }\n",
       "    svg.railroad-diagram text {\n",
       "        font:14px \"Fira Mono\", monospace;\n",
       "        text-anchor:middle;\n",
       "    }\n",
       "    svg.railroad-diagram text.label{\n",
       "        text-anchor:start;\n",
       "    }\n",
       "    svg.railroad-diagram text.comment{\n",
       "        font:italic 12px \"Fira Mono\", monospace;\n",
       "    }\n",
       "    svg.railroad-diagram rect{\n",
       "        stroke-width:2;\n",
       "        stroke:black;\n",
       "        fill:mistyrose;\n",
       "    }\n",
       "\n",
       "/* ]]> */\n",
       "</style><g>\n",
       "<path d=\"M20 30v20m10 -20v20m-10 -10h20\"/></g><g>\n",
       "<path d=\"M40 40h0.0\"/><path d=\"M1285.0 40h0.0\"/><path d=\"M40.0 40a10 10 0 0 0 10 -10v0a10 10 0 0 1 10 -10h973.5\"/><path d=\"M130.0 60h1135.0a10 10 0 0 0 10 -10v0a10 10 0 0 1 10 -10\"/><path d=\"M40.0 40h10\"/><g>\n",
       "<path d=\"M50.0 40h0.0\"/><path d=\"M110.0 40h0.0\"/><path d=\"M50.0 40h20\"/><g>\n",
       "<path d=\"M70.0 40h0.0\"/><path d=\"M90.0 40h0.0\"/><g class=\"terminal\">\n",
       "<path d=\"M70.0 40h0.0\"/><path d=\"M90.0 40h0.0\"/><rect height=\"22\" rx=\"10\" ry=\"10\" width=\"20.0\" x=\"70.0\" y=\"29\"/><text x=\"80.0\" y=\"44\"/></g></g><path d=\"M90.0 40h20\"/></g><path d=\"M110.0 40a10 10 0 0 1 10 10v0a10 10 0 0 0 10 10\"/><path d=\"M110.0 20a10 10 0 0 1 10 10v0a10 10 0 0 0 10 10\"/><g>\n",
       "<path d=\"M130.0 40h0.0\"/><path d=\"M360.0 40h0.0\"/><path d=\"M130.0 40h20\"/><g>\n",
       "<path d=\"M150.0 40h0.0\"/><path d=\"M340.0 40h0.0\"/><g class=\"terminal\">\n",
       "<path d=\"M150.0 40h0.0\"/><path d=\"M340.0 40h0.0\"/><rect height=\"22\" rx=\"10\" ry=\"10\" width=\"190.0\" x=\"150.0\" y=\"29\"/><text x=\"245.0\" y=\"44\">ON CONFLICT ROLLBACK</text></g></g><path d=\"M340.0 40h20\"/></g><path d=\"M360.0 40a10 10 0 0 1 10 10v0a10 10 0 0 0 10 10\"/><path d=\"M360.0 20a10 10 0 0 1 10 10v0a10 10 0 0 0 10 10\"/><g>\n",
       "<path d=\"M380.0 40h0.0\"/><path d=\"M584.5 40h0.0\"/><path d=\"M380.0 40h20\"/><g>\n",
       "<path d=\"M400.0 40h0.0\"/><path d=\"M564.5 40h0.0\"/><g class=\"terminal\">\n",
       "<path d=\"M400.0 40h0.0\"/><path d=\"M564.5 40h0.0\"/><rect height=\"22\" rx=\"10\" ry=\"10\" width=\"164.5\" x=\"400.0\" y=\"29\"/><text x=\"482.25\" y=\"44\">ON CONFLICT ABORT</text></g></g><path d=\"M564.5 40h20\"/></g><path d=\"M584.5 40a10 10 0 0 1 10 10v0a10 10 0 0 0 10 10\"/><path d=\"M584.5 20a10 10 0 0 1 10 10v0a10 10 0 0 0 10 10\"/><g>\n",
       "<path d=\"M604.5 40h0.0\"/><path d=\"M800.5 40h0.0\"/><path d=\"M604.5 40h20\"/><g>\n",
       "<path d=\"M624.5 40h0.0\"/><path d=\"M780.5 40h0.0\"/><g class=\"terminal\">\n",
       "<path d=\"M624.5 40h0.0\"/><path d=\"M780.5 40h0.0\"/><rect height=\"22\" rx=\"10\" ry=\"10\" width=\"156.0\" x=\"624.5\" y=\"29\"/><text x=\"702.5\" y=\"44\">ON CONFLICT FAIL</text></g></g><path d=\"M780.5 40h20\"/></g><path d=\"M800.5 40a10 10 0 0 1 10 10v0a10 10 0 0 0 10 10\"/><path d=\"M800.5 20a10 10 0 0 1 10 10v0a10 10 0 0 0 10 10\"/><g>\n",
       "<path d=\"M820.5 40h0.0\"/><path d=\"M1033.5 40h0.0\"/><path d=\"M820.5 40h20\"/><g>\n",
       "<path d=\"M840.5 40h0.0\"/><path d=\"M1013.5 40h0.0\"/><g class=\"terminal\">\n",
       "<path d=\"M840.5 40h0.0\"/><path d=\"M1013.5 40h0.0\"/><rect height=\"22\" rx=\"10\" ry=\"10\" width=\"173.0\" x=\"840.5\" y=\"29\"/><text x=\"927.0\" y=\"44\">ON CONFLICT IGNORE</text></g></g><path d=\"M1013.5 40h20\"/></g><path d=\"M1033.5 40a10 10 0 0 1 10 10v0a10 10 0 0 0 10 10\"/><path d=\"M1033.5 20a10 10 0 0 1 10 10v0a10 10 0 0 0 10 10\"/><g>\n",
       "<path d=\"M1053.5 40h0.0\"/><path d=\"M1275.0 40h0.0\"/><path d=\"M1053.5 40h20\"/><g>\n",
       "<path d=\"M1073.5 40h0.0\"/><path d=\"M1255.0 40h0.0\"/><g class=\"terminal\">\n",
       "<path d=\"M1073.5 40h0.0\"/><path d=\"M1255.0 40h0.0\"/><rect height=\"22\" rx=\"10\" ry=\"10\" width=\"181.5\" x=\"1073.5\" y=\"29\"/><text x=\"1164.25\" y=\"44\">ON CONFLICT REPLACE</text></g></g><path d=\"M1255.0 40h20\"/></g><path d=\"M1275.0 40h10\"/></g><path d=\"M 1285.0 40 h 20 m -10 -10 v 20 m 10 -20 v 20\"/></g></svg>"
      ],
      "text/plain": [
       "<IPython.core.display.SVG object>"
      ]
     },
     "metadata": {},
     "output_type": "display_data"
    }
   ],
   "source": [
    "syntax_diagram(conflict_clause)"
   ]
  },
  {
   "cell_type": "code",
   "execution_count": null,
   "id": "0b1cc5b6",
   "metadata": {},
   "outputs": [],
   "source": []
  }
 ],
 "metadata": {
  "kernelspec": {
   "display_name": "Python 3 (ipykernel)",
   "language": "python",
   "name": "python3"
  },
  "language_info": {
   "codemirror_mode": {
    "name": "ipython",
    "version": 3
   },
   "file_extension": ".py",
   "mimetype": "text/x-python",
   "name": "python",
   "nbconvert_exporter": "python",
   "pygments_lexer": "ipython3",
   "version": "3.9.12"
  }
 },
 "nbformat": 4,
 "nbformat_minor": 5
}
